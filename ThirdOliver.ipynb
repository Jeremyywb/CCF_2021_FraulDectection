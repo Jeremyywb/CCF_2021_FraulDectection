{
 "cells": [
  {
   "cell_type": "markdown",
   "metadata": {},
   "source": [
    "## 导包"
   ]
  },
  {
   "cell_type": "code",
   "execution_count": 1,
   "metadata": {},
   "outputs": [],
   "source": [
    "import matplotlib.pyplot as plt\n",
    "import seaborn as sns\n",
    "import gc\n",
    "import re\n",
    "import pandas as pd\n",
    "import lightgbm as lgb\n",
    "import numpy as np\n",
    "from sklearn.metrics import roc_auc_score, precision_recall_curve, roc_curve, average_precision_score\n",
    "from sklearn.model_selection import KFold\n",
    "from lightgbm import LGBMClassifier\n",
    "import matplotlib.pyplot as plt\n",
    "import seaborn as sns\n",
    "import gc\n",
    "from sklearn.model_selection import StratifiedKFold\n",
    "from dateutil.relativedelta import relativedelta "
   ]
  },
  {
   "cell_type": "markdown",
   "metadata": {},
   "source": [
    "## 设置与读取"
   ]
  },
  {
   "cell_type": "code",
   "execution_count": 2,
   "metadata": {},
   "outputs": [],
   "source": [
    "train_data = pd.read_csv('raw_data/train_public.csv')\n",
    "submit_example = pd.read_csv('raw_data/submit_example.csv')\n",
    "test_public = pd.read_csv('raw_data/test_public.csv')\n",
    "pd.set_option('max_columns', None)\n",
    "pd.set_option('max_rows', 200)\n",
    "pd.set_option('float_format', lambda x: '%.3f' % x)"
   ]
  },
  {
   "cell_type": "markdown",
   "metadata": {},
   "source": [
    "## 模型模块"
   ]
  },
  {
   "cell_type": "code",
   "execution_count": 3,
   "metadata": {},
   "outputs": [],
   "source": [
    "def train_model(data_, test_, y_, folds_):\n",
    "    oof_preds = np.zeros(data_.shape[0])\n",
    "    sub_preds = np.zeros(test_.shape[0])\n",
    "    feature_importance_df = pd.DataFrame()\n",
    "    feats = [f for f in data_.columns if f not in ['loan_id', 'user_id', 'isDefault'] ]\n",
    "    for n_fold, (trn_idx, val_idx) in enumerate(folds_.split(data_)):\n",
    "        trn_x, trn_y = data_[feats].iloc[trn_idx], y_.iloc[trn_idx]\n",
    "        val_x, val_y = data_[feats].iloc[val_idx], y_.iloc[val_idx]\n",
    "        clf = LGBMClassifier(\n",
    "            n_estimators=4000,\n",
    "            learning_rate=0.08,\n",
    "            num_leaves=2**5,\n",
    "            colsample_bytree=.65,\n",
    "            subsample=.9,\n",
    "            max_depth=5,\n",
    "            reg_alpha=.3,\n",
    "            reg_lambda=.3,\n",
    "            min_split_gain=.01,\n",
    "            min_child_weight=2,\n",
    "            silent=-1,\n",
    "            verbose=-1,\n",
    "        )\n",
    "        \n",
    "        clf.fit(trn_x, trn_y, \n",
    "                eval_set= [(trn_x, trn_y), (val_x, val_y)], \n",
    "                eval_metric='auc', verbose=100, early_stopping_rounds=40  #30\n",
    "               )\n",
    "\n",
    "        oof_preds[val_idx] = clf.predict_proba(val_x, num_iteration=clf.best_iteration_)[:, 1]\n",
    "        sub_preds += clf.predict_proba(test_[feats], num_iteration=clf.best_iteration_)[:, 1] / folds_.n_splits\n",
    "        \n",
    "        fold_importance_df = pd.DataFrame()\n",
    "        fold_importance_df[\"feature\"] = feats\n",
    "        fold_importance_df[\"importance\"] = clf.feature_importances_\n",
    "        fold_importance_df[\"fold\"] = n_fold + 1\n",
    "        feature_importance_df = pd.concat([feature_importance_df, fold_importance_df], axis=0)\n",
    "        \n",
    "        print('Fold %2d AUC : %.6f' % (n_fold + 1, roc_auc_score(val_y, oof_preds[val_idx])))\n",
    "        del clf, trn_x, trn_y, val_x, val_y\n",
    "        gc.collect()\n",
    "        \n",
    "    print('Full AUC score %.6f' % roc_auc_score(y, oof_preds)) \n",
    "    \n",
    "    test_['isDefault'] = sub_preds\n",
    "\n",
    "    return oof_preds, test_[['loan_id', 'isDefault']], feature_importance_df\n",
    "    \n",
    "def display_importances(feature_importance_df_):\n",
    "    # Plot feature importances\n",
    "    cols = feature_importance_df_[[\"feature\", \"importance\"]].groupby(\"feature\").mean().sort_values(\n",
    "        by=\"importance\", ascending=False)[:50].index\n",
    "    \n",
    "    best_features = feature_importance_df_.loc[feature_importance_df_.feature.isin(cols)]\n",
    "    \n",
    "    plt.figure(figsize=(8,10))\n",
    "    sns.barplot(x=\"importance\", y=\"feature\", \n",
    "                data=best_features.sort_values(by=\"importance\", ascending=False))\n",
    "    plt.title('LightGBM Features (avg over folds)')\n",
    "    plt.tight_layout()\n",
    "    plt.savefig('lgbm_importances.png')"
   ]
  },
  {
   "cell_type": "code",
   "execution_count": 4,
   "metadata": {},
   "outputs": [],
   "source": [
    "\n",
    "def workYearDIc(x):\n",
    "    if str(x)=='nan':\n",
    "        return -1\n",
    "    x = x.replace('< 1','0')\n",
    "    return int(re.search('(\\d+)', x).group())\n",
    "\n",
    "def findDig(val):\n",
    "    fd = re.search('(\\d+-)', val)\n",
    "    if fd is None:\n",
    "        return '1-'+val\n",
    "    return val + '-01'\n",
    "\n",
    "\n",
    "class_dict = {\n",
    "    'A': 1,\n",
    "    'B': 2,\n",
    "    'C': 3,\n",
    "    'D': 4,\n",
    "    'E': 5,\n",
    "    'F': 6,\n",
    "    'G': 7,\n",
    "}\n",
    "timeMax = pd.to_datetime('1-Dec-21')"
   ]
  },
  {
   "cell_type": "code",
   "execution_count": 5,
   "metadata": {},
   "outputs": [],
   "source": [
    "# train_data['earlies_credit_mon']"
   ]
  },
  {
   "cell_type": "markdown",
   "metadata": {},
   "source": [
    "## 数据预处理"
   ]
  },
  {
   "cell_type": "code",
   "execution_count": 6,
   "metadata": {},
   "outputs": [],
   "source": [
    "train_data['work_year'] = train_data['work_year'].map(workYearDIc)\n",
    "test_public['work_year'] = test_public['work_year'].map(workYearDIc)\n",
    "train_data['class'] = train_data['class'].map(class_dict)\n",
    "test_public['class'] = test_public['class'].map(class_dict)\n",
    "\n",
    "train_data['earlies_credit_mon'] = pd.to_datetime(train_data['earlies_credit_mon'].map(findDig))\n",
    "test_public['earlies_credit_mon'] = pd.to_datetime(test_public['earlies_credit_mon'].map(findDig))\n",
    "train_data.loc[ train_data['earlies_credit_mon']>timeMax,'earlies_credit_mon' ] = train_data.loc[ train_data['earlies_credit_mon']>timeMax,'earlies_credit_mon' ]+  pd.offsets.DateOffset(years=-100)  \n",
    "test_public.loc[ test_public['earlies_credit_mon']>timeMax,'earlies_credit_mon' ] = test_public.loc[ test_public['earlies_credit_mon']>timeMax,'earlies_credit_mon' ]+ pd.offsets.DateOffset(years=-100)\n",
    "train_data['issue_date'] = pd.to_datetime(train_data['issue_date'])\n",
    "test_public['issue_date'] = pd.to_datetime(test_public['issue_date'])\n",
    "\n",
    "#81后加 \n",
    "\n",
    "# trti = set(train_data.title.unique())\n",
    "# inte = trti.intersection( set(test_public.title.unique()) )\n",
    "\n",
    "# train_data.loc[train_data.title.isin(inte)==False,'title'] = np.nan\n",
    "# test_public.loc[test_public.title.isin(inte)==False,'title'] = np.nan\n"
   ]
  },
  {
   "cell_type": "markdown",
   "metadata": {},
   "source": [
    "## 对抗过拟合-特征粒度处理"
   ]
  },
  {
   "cell_type": "code",
   "execution_count": 7,
   "metadata": {},
   "outputs": [],
   "source": [
    "# debt_loan_ratio\n",
    "# recircle_u\n",
    "# recircle_b\n",
    "# ------取值超过三千\n",
    "# train_data['debt_loan_ratio'] = np.round(train_data['debt_loan_ratio'],1)\n",
    "# train_data.loc[train_data['debt_loan_ratio']>=60,'debt_loan_ratio']=60\n",
    "# test_public['debt_loan_ratio'] = np.round(test_public['debt_loan_ratio'],1)\n",
    "# test_public.loc[test_public['debt_loan_ratio']>=60,'debt_loan_ratio']=60\n",
    "\n",
    "# train_data['recircle_u'] = np.round(train_data['recircle_u'],1)\n",
    "# test_public['recircle_u'] = np.round(test_public['recircle_u'],1)\n",
    "\n",
    "# train_data['recircle_b'] = np.round(train_data['recircle_b'])\n",
    "# test_public['recircle_b'] = np.round(test_public['recircle_b'])"
   ]
  },
  {
   "cell_type": "code",
   "execution_count": null,
   "metadata": {},
   "outputs": [],
   "source": []
  },
  {
   "cell_type": "code",
   "execution_count": 8,
   "metadata": {},
   "outputs": [],
   "source": [
    "# train_data['earliesCreditMon'] .isnull().sum()"
   ]
  },
  {
   "cell_type": "markdown",
   "metadata": {},
   "source": [
    "## 时间特征"
   ]
  },
  {
   "cell_type": "code",
   "execution_count": 9,
   "metadata": {},
   "outputs": [],
   "source": [
    "train_data['issue_date_month'] = train_data['issue_date'].dt.month\n",
    "test_public['issue_date_month'] = test_public['issue_date'].dt.month\n",
    "train_data['issue_date_dayofweek'] = train_data['issue_date'].dt.dayofweek\n",
    "test_public['issue_date_dayofweek'] = test_public['issue_date'].dt.dayofweek\n",
    "\n",
    "train_data['earliesCreditMon'] = train_data['earlies_credit_mon'].dt.month\n",
    "test_public['earliesCreditMon'] = test_public['earlies_credit_mon'].dt.month\n",
    "train_data['earliesCreditYear'] = train_data['earlies_credit_mon'].dt.year\n",
    "test_public['earliesCreditYear'] = test_public['earlies_credit_mon'].dt.year\n",
    "\n",
    "\n",
    "\n",
    "# train_data['issue_date_year'] = train_data['issue_date'].dt.year\n",
    "# test_public['issue_date_year'] = test_public['issue_date'].dt.year\n",
    "\n",
    "\n",
    "\n",
    "#81后加  单独加没用\n",
    "# train_data['issue_date_toNow'] = (pd.to_datetime('2021-08-01') - train_data['issue_date']).dt.days\n",
    "# test_public['issue_date_toNow'] = (pd.to_datetime('2021-09-01') - test_public['issue_date']).dt.days\n",
    "# train_data['issue_year_2_CreMon'] = (train_data['issue_date'] - train_data['earlies_credit_mon']).dt.days\n",
    "# test_public['issue_year_2_CreMon'] = (test_public['issue_date'] - test_public['earlies_credit_mon']).dt.days\n",
    "\n",
    "\n",
    "\n",
    "\n"
   ]
  },
  {
   "cell_type": "markdown",
   "metadata": {},
   "source": [
    "## Pcode 特征"
   ]
  },
  {
   "cell_type": "code",
   "execution_count": 10,
   "metadata": {},
   "outputs": [],
   "source": [
    "# #81后加 \n",
    "\n",
    "# train_data['post_code_to_mean_interst'] = train_data.groupby(['post_code'])['interest'].transform('mean')\n",
    "# test_public['post_code_to_mean_interst'] = test_public.groupby(['post_code'])['interest'].transform('mean')\n",
    "# train_data['post_code_cnt'] = train_data['post_code'].map(train_data['post_code'].value_counts())\n",
    "# train_data.loc[train_data['post_code_cnt']<=5,'post_code_to_mean_interst'] = np.nan\n",
    "# del train_data['post_code_cnt']\n",
    "# test_public['post_code_cnt'] = test_public['post_code'].map(test_public['post_code'].value_counts())\n",
    "# test_public.loc[test_public['post_code_cnt']<=5,'post_code_to_mean_interst'] = np.nan\n",
    "# del test_public['post_code_cnt']\n",
    "\n",
    "\n"
   ]
  },
  {
   "cell_type": "markdown",
   "metadata": {},
   "source": [
    "## 精度处理，没有提升，不代表不对"
   ]
  },
  {
   "cell_type": "code",
   "execution_count": 11,
   "metadata": {},
   "outputs": [],
   "source": [
    "# monthly_payment//10           \n",
    "# recircle_b           \n",
    "# train_data.loc[train_data.recircle_b==0,'recircle_b']=-1\n",
    "# train_data.recircle_b = train_data.recircle_b//100\n",
    "\n",
    "\n",
    "# ------代码\n",
    "# early_return_amount//10      \n",
    "# early_return_amount_3mon //10\n",
    "\n",
    "# train_data['monthly_payment'] = train_data['monthly_payment']//10\n",
    "# test_public['monthly_payment'] = test_public['monthly_payment']//10\n",
    "\n",
    "# train_data['early_return_amount'] = train_data['early_return_amount']//10\n",
    "# test_public['early_return_amount'] = test_public['early_return_amount']//10\n",
    "\n",
    "# train_data['early_return_amount_3mon'] = train_data['early_return_amount_3mon']//10\n",
    "# test_public['early_return_amount_3mon'] = test_public['early_return_amount_3mon']//10\n",
    "\n",
    "# train_data.loc[train_data.recircle_b==0,'recircle_b']=-1\n",
    "# train_data.recircle_b = train_data.recircle_b//100\n",
    "\n",
    "# test_public.loc[test_public.recircle_b==0,'recircle_b']=-1\n",
    "# test_public['recircle_b'] = test_public['recircle_b']//100"
   ]
  },
  {
   "cell_type": "code",
   "execution_count": null,
   "metadata": {},
   "outputs": [],
   "source": []
  },
  {
   "cell_type": "markdown",
   "metadata": {},
   "source": [
    "## 精度处理后添加特征"
   ]
  },
  {
   "cell_type": "code",
   "execution_count": 12,
   "metadata": {},
   "outputs": [],
   "source": [
    "# train_data['post_code_cnt'] = train_data['post_code'].map(train_data['post_code'].value_counts())\n",
    "# test_public['post_code_cnt'] = test_public['post_code'].map(test_public['post_code'].value_counts())\n",
    "\n",
    "# for col in ['monthly_payment','early_return_amount','early_return_amount_3mon']:\n",
    "#     for sta in ['mean','std']:\n",
    "#         train_data['Pcode_{}_to_{}'.format(sta,col)] = train_data.groupby(['post_code'])[col].transform(sta)\n",
    "#         test_public['Pcode_{}_to_{}'.format(sta,col)] = test_public.groupby(['post_code'])[col].transform(sta)\n",
    "#         test_public.loc[test_public['post_code_cnt']<=5,'Pcode_{}_to_{}'.format(sta,col)] = np.nan\n",
    "#         train_data.loc[train_data['post_code_cnt']<=5,'Pcode_{}_to_{}'.format(sta,col)] = np.nan\n",
    "\n",
    "\n",
    "# del train_data['post_code_cnt']\n",
    "# del test_public['post_code_cnt']\n"
   ]
  },
  {
   "cell_type": "markdown",
   "metadata": {},
   "source": [
    "## 自然编码"
   ]
  },
  {
   "cell_type": "code",
   "execution_count": 13,
   "metadata": {},
   "outputs": [],
   "source": [
    "cat_cols = ['employer_type', 'industry']\n",
    "\n",
    "from sklearn.preprocessing import LabelEncoder\n",
    "for col in cat_cols:\n",
    "    lbl = LabelEncoder().fit(train_data[col])\n",
    "    train_data[col] = lbl.transform(train_data[col])\n",
    "    test_public[col] = lbl.transform(test_public[col])\n",
    "# 'f1','policy_code','app_type' 这三个去掉是881\n",
    "col_to_drop = ['issue_date', 'earlies_credit_mon','f1','policy_code','app_type']\n",
    "train_data = train_data.drop(col_to_drop, axis=1)\n",
    "test_public = test_public.drop(col_to_drop, axis=1 ) \n",
    "# data = pd.concat( [train_data,test_public] )\n",
    "\n",
    "\n",
    "#81后加 \n",
    "# for col in cat_cols:\n",
    "#     dum = pd.get_dummies(data[col], prefix='OneHot_'+col +'_')\n",
    "#     data = pd.concat([data, dum], axis=1)\n",
    "# #     del data[col]\n",
    "#     del dum\n",
    "\n"
   ]
  },
  {
   "cell_type": "code",
   "execution_count": null,
   "metadata": {},
   "outputs": [],
   "source": []
  },
  {
   "cell_type": "markdown",
   "metadata": {},
   "source": [
    "## 模型与输出"
   ]
  },
  {
   "cell_type": "code",
   "execution_count": 14,
   "metadata": {},
   "outputs": [
    {
     "name": "stdout",
     "output_type": "stream",
     "text": [
      "Training until validation scores don't improve for 40 rounds\n",
      "Early stopping, best iteration is:\n",
      "[24]\ttraining's auc: 0.914423\ttraining's binary_logloss: 0.286097\tvalid_1's auc: 0.890731\tvalid_1's binary_logloss: 0.306099\n",
      "Fold  1 AUC : 0.890731\n",
      "Training until validation scores don't improve for 40 rounds\n",
      "Early stopping, best iteration is:\n",
      "[15]\ttraining's auc: 0.907653\ttraining's binary_logloss: 0.314684\tvalid_1's auc: 0.889965\tvalid_1's binary_logloss: 0.318763\n",
      "Fold  2 AUC : 0.889965\n",
      "Training until validation scores don't improve for 40 rounds\n",
      "[100]\ttraining's auc: 0.957514\ttraining's binary_logloss: 0.218137\tvalid_1's auc: 0.876234\tvalid_1's binary_logloss: 0.309997\n",
      "Early stopping, best iteration is:\n",
      "[75]\ttraining's auc: 0.948736\ttraining's binary_logloss: 0.229992\tvalid_1's auc: 0.877364\tvalid_1's binary_logloss: 0.308711\n",
      "Fold  3 AUC : 0.877364\n",
      "Training until validation scores don't improve for 40 rounds\n",
      "Early stopping, best iteration is:\n",
      "[40]\ttraining's auc: 0.929763\ttraining's binary_logloss: 0.257268\tvalid_1's auc: 0.866331\tvalid_1's binary_logloss: 0.319493\n",
      "Fold  4 AUC : 0.866331\n",
      "Training until validation scores don't improve for 40 rounds\n",
      "[100]\ttraining's auc: 0.953281\ttraining's binary_logloss: 0.226246\tvalid_1's auc: 0.877712\tvalid_1's binary_logloss: 0.301184\n",
      "Early stopping, best iteration is:\n",
      "[72]\ttraining's auc: 0.940404\ttraining's binary_logloss: 0.242024\tvalid_1's auc: 0.879242\tvalid_1's binary_logloss: 0.299016\n",
      "Fold  5 AUC : 0.879242\n",
      "Full AUC score 0.872224\n"
     ]
    }
   ],
   "source": [
    "# train = data[data['isDefault'].notna()]\n",
    "# test  = data[data['isDefault'].isna()]\n",
    "\n",
    "# del data\n",
    "# y = train['isDefault']\n",
    "\n",
    "# del train_data,test_public\n",
    "\n",
    "\n",
    "y = train_data['isDefault']\n",
    "folds = KFold(n_splits=5, shuffle=True, random_state=546789)\n",
    "oof_preds, test_preds, importances = train_model(train_data, test_public, y, folds)"
   ]
  },
  {
   "cell_type": "code",
   "execution_count": 15,
   "metadata": {},
   "outputs": [],
   "source": [
    "test_preds.rename({'loan_id': 'id'}, axis=1)[['id', 'isDefault']].to_csv('submit/tmpSub.csv', index=False)"
   ]
  },
  {
   "cell_type": "code",
   "execution_count": 16,
   "metadata": {},
   "outputs": [],
   "source": [
    "# train.issue_date_year.value_counts()"
   ]
  },
  {
   "cell_type": "code",
   "execution_count": 17,
   "metadata": {
    "scrolled": false
   },
   "outputs": [
    {
     "data": {
      "image/png": "[encoded data removed]",
      "text/plain": [
       "<Figure size 576x720 with 1 Axes>"
      ]
     },
     "metadata": {},
     "output_type": "display_data"
    }
   ],
   "source": [
    "display_importances(importances)\n",
    "\n",
    "# 处理一些取值精度后没有大的变化 依然是状态 / 得分\n",
    "# 0.88142741347 "
   ]
  },
  {
   "cell_type": "code",
   "execution_count": 18,
   "metadata": {},
   "outputs": [],
   "source": [
    "# train.nunique()"
   ]
  }
 ],
 "metadata": {
  "kernelspec": {
   "display_name": "Python 3",
   "language": "python",
   "name": "python3"
  },
  "language_info": {
   "codemirror_mode": {
    "name": "ipython",
    "version": 3
   },
   "file_extension": ".py",
   "mimetype": "text/x-python",
   "name": "python",
   "nbconvert_exporter": "python",
   "pygments_lexer": "ipython3",
   "version": "3.6.5"
  }
 },
 "nbformat": 4,
 "nbformat_minor": 2
}
