{
 "cells": [
  {
   "cell_type": "markdown",
   "metadata": {},
   "source": [
    "## 导包"
   ]
  },
  {
   "cell_type": "code",
   "execution_count": 1,
   "metadata": {},
   "outputs": [],
   "source": [
    "import matplotlib.pyplot as plt\n",
    "import seaborn as sns\n",
    "import gc\n",
    "import re\n",
    "import pandas as pd\n",
    "import lightgbm as lgb\n",
    "import numpy as np\n",
    "from sklearn.metrics import roc_auc_score, precision_recall_curve, roc_curve, average_precision_score\n",
    "from sklearn.model_selection import KFold\n",
    "from lightgbm import LGBMClassifier\n",
    "import matplotlib.pyplot as plt\n",
    "import seaborn as sns\n",
    "import gc\n",
    "from sklearn.model_selection import StratifiedKFold\n",
    "from dateutil.relativedelta import relativedelta"
   ]
  },
  {
   "cell_type": "code",
   "execution_count": 2,
   "metadata": {},
   "outputs": [
    {
     "data": {
      "text/plain": [
       "'0.19.1'"
      ]
     },
     "execution_count": 2,
     "metadata": {},
     "output_type": "execute_result"
    }
   ],
   "source": [
    "import sklearn\n",
    "sklearn.__version__"
   ]
  },
  {
   "cell_type": "code",
   "execution_count": 3,
   "metadata": {},
   "outputs": [],
   "source": [
    "# s等下 别下载 就用这个啊pip install s\n",
    "# lgb.version\n",
    "# !pip install lightgbm"
   ]
  },
  {
   "cell_type": "markdown",
   "metadata": {},
   "source": [
    "## 设置与读取"
   ]
  },
  {
   "cell_type": "code",
   "execution_count": null,
   "metadata": {},
   "outputs": [],
   "source": []
  },
  {
   "cell_type": "code",
   "execution_count": 4,
   "metadata": {},
   "outputs": [],
   "source": [
    "train_data = pd.read_csv('raw_data/train_public.csv')\n",
    "submit_example = pd.read_csv('raw_data/submit_example.csv')\n",
    "test_public = pd.read_csv('raw_data/test_public.csv')\n",
    "train_inte = pd.read_csv('raw_data/train_internet.csv')\n",
    "\n",
    "pd.set_option('max_columns', None)\n",
    "pd.set_option('max_rows', 200)\n",
    "pd.set_option('float_format', lambda x: '%.3f' % x)"
   ]
  },
  {
   "cell_type": "markdown",
   "metadata": {},
   "source": [
    "## 模型模块"
   ]
  },
  {
   "cell_type": "code",
   "execution_count": 5,
   "metadata": {},
   "outputs": [],
   "source": [
    "def train_model(data_, test_, y_, folds_):\n",
    "    oof_preds = np.zeros(data_.shape[0])\n",
    "    sub_preds = np.zeros(test_.shape[0])\n",
    "    feature_importance_df = pd.DataFrame()\n",
    "    feats = [f for f in data_.columns if f not in ['loan_id', 'user_id', 'isDefault'] ]\n",
    "    for n_fold, (trn_idx, val_idx) in enumerate(folds_.split(data_)):\n",
    "        trn_x, trn_y = data_[feats].iloc[trn_idx], y_.iloc[trn_idx]\n",
    "        val_x, val_y = data_[feats].iloc[val_idx], y_.iloc[val_idx]\n",
    "        clf = LGBMClassifier(\n",
    "            n_estimators=4000,\n",
    "            learning_rate=0.08,\n",
    "            num_leaves=2**5,\n",
    "            colsample_bytree=.65,\n",
    "            subsample=.9,\n",
    "            max_depth=5,\n",
    "#             max_bin=250,\n",
    "            reg_alpha=.3,\n",
    "            reg_lambda=.3,\n",
    "            min_split_gain=.01,\n",
    "            min_child_weight=2,\n",
    "            silent=-1,\n",
    "            verbose=-1,\n",
    "        )\n",
    "        \n",
    "        clf.fit(trn_x, trn_y, \n",
    "                eval_set= [(trn_x, trn_y), (val_x, val_y)], \n",
    "                eval_metric='auc', verbose=100, early_stopping_rounds=40  #30\n",
    "               )\n",
    "\n",
    "        oof_preds[val_idx] = clf.predict_proba(val_x, num_iteration=clf.best_iteration_)[:, 1]\n",
    "        sub_preds += clf.predict_proba(test_[feats], num_iteration=clf.best_iteration_)[:, 1] / folds_.n_splits\n",
    "        \n",
    "        fold_importance_df = pd.DataFrame()\n",
    "        fold_importance_df[\"feature\"] = feats\n",
    "        fold_importance_df[\"importance\"] = clf.feature_importances_\n",
    "        fold_importance_df[\"fold\"] = n_fold + 1\n",
    "        feature_importance_df = pd.concat([feature_importance_df, fold_importance_df], axis=0)\n",
    "        \n",
    "        print('Fold %2d AUC : %.6f' % (n_fold + 1, roc_auc_score(val_y, oof_preds[val_idx])))\n",
    "        del clf, trn_x, trn_y, val_x, val_y\n",
    "        gc.collect()\n",
    "        \n",
    "    print('Full AUC score %.6f' % roc_auc_score(y, oof_preds)) \n",
    "    \n",
    "    test_['isDefault'] = sub_preds\n",
    "\n",
    "    return oof_preds, test_[['loan_id', 'isDefault']], feature_importance_df\n",
    "    \n",
    "def display_importances(feature_importance_df_):\n",
    "    # Plot feature importances\n",
    "    cols = feature_importance_df_[[\"feature\", \"importance\"]].groupby(\"feature\").mean().sort_values(\n",
    "        by=\"importance\", ascending=False)[:50].index\n",
    "    \n",
    "    best_features = feature_importance_df_.loc[feature_importance_df_.feature.isin(cols)]\n",
    "    \n",
    "    plt.figure(figsize=(8,10))\n",
    "    sns.barplot(x=\"importance\", y=\"feature\", \n",
    "                data=best_features.sort_values(by=\"importance\", ascending=False))\n",
    "    plt.title('LightGBM Features (avg over folds)')\n",
    "    plt.tight_layout()\n",
    "    plt.savefig('lgbm_importances.png')"
   ]
  },
  {
   "cell_type": "code",
   "execution_count": 6,
   "metadata": {},
   "outputs": [],
   "source": [
    "\n",
    "def workYearDIc(x):\n",
    "    if str(x)=='nan':\n",
    "        return -1\n",
    "    x = x.replace('< 1','0')\n",
    "    return int(re.search('(\\d+)', x).group())\n",
    "\n",
    "def findDig(val):\n",
    "    fd = re.search('(\\d+-)', val)\n",
    "    if fd is None:\n",
    "        return '1-'+val\n",
    "    return val + '-01'\n",
    "\n",
    "\n",
    "class_dict = {\n",
    "    'A': 1,\n",
    "    'B': 2,\n",
    "    'C': 3,\n",
    "    'D': 4,\n",
    "    'E': 5,\n",
    "    'F': 6,\n",
    "    'G': 7,\n",
    "}\n",
    "timeMax = pd.to_datetime('1-Dec-21')"
   ]
  },
  {
   "cell_type": "markdown",
   "metadata": {},
   "source": [
    "## 数据预处理"
   ]
  },
  {
   "cell_type": "code",
   "execution_count": 7,
   "metadata": {},
   "outputs": [],
   "source": [
    "train_data['work_year'] = train_data['work_year'].map(workYearDIc)\n",
    "test_public['work_year'] = test_public['work_year'].map(workYearDIc)\n",
    "train_data['class'] = train_data['class'].map(class_dict)\n",
    "test_public['class'] = test_public['class'].map(class_dict)\n",
    "\n",
    "train_data['earlies_credit_mon'] = pd.to_datetime(train_data['earlies_credit_mon'].map(findDig))\n",
    "test_public['earlies_credit_mon'] = pd.to_datetime(test_public['earlies_credit_mon'].map(findDig))\n",
    "train_data.loc[ train_data['earlies_credit_mon']>timeMax,'earlies_credit_mon' ] = train_data.loc[ train_data['earlies_credit_mon']>timeMax,'earlies_credit_mon' ]+  pd.offsets.DateOffset(years=-100)  \n",
    "test_public.loc[ test_public['earlies_credit_mon']>timeMax,'earlies_credit_mon' ] = test_public.loc[ test_public['earlies_credit_mon']>timeMax,'earlies_credit_mon' ]+ pd.offsets.DateOffset(years=-100)\n",
    "train_data['issue_date'] = pd.to_datetime(train_data['issue_date'])\n",
    "test_public['issue_date'] = pd.to_datetime(test_public['issue_date'])\n",
    "\n",
    "\n",
    "\n",
    "#Internet数据处理\n",
    "train_inte['work_year'] = train_inte['work_year'].map(workYearDIc)\n",
    "train_inte['class'] = train_inte['class'].map(class_dict)\n",
    "train_inte['earlies_credit_mon'] = pd.to_datetime(train_inte['earlies_credit_mon'])\n",
    "train_inte['issue_date'] = pd.to_datetime(train_inte['issue_date'])\n",
    "\n",
    "\n"
   ]
  },
  {
   "cell_type": "markdown",
   "metadata": {},
   "source": [
    "## 对抗过拟合-特征粒度处理"
   ]
  },
  {
   "cell_type": "code",
   "execution_count": null,
   "metadata": {},
   "outputs": [],
   "source": []
  },
  {
   "cell_type": "markdown",
   "metadata": {},
   "source": [
    "## 时间特征"
   ]
  },
  {
   "cell_type": "code",
   "execution_count": 8,
   "metadata": {},
   "outputs": [],
   "source": [
    "train_data['issue_date_month'] = train_data['issue_date'].dt.month\n",
    "test_public['issue_date_month'] = test_public['issue_date'].dt.month\n",
    "train_data['issue_date_dayofweek'] = train_data['issue_date'].dt.dayofweek\n",
    "test_public['issue_date_dayofweek'] = test_public['issue_date'].dt.dayofweek\n",
    "\n",
    "train_data['earliesCreditMon'] = train_data['earlies_credit_mon'].dt.month\n",
    "test_public['earliesCreditMon'] = test_public['earlies_credit_mon'].dt.month\n",
    "train_data['earliesCreditYear'] = train_data['earlies_credit_mon'].dt.year\n",
    "test_public['earliesCreditYear'] = test_public['earlies_credit_mon'].dt.year\n",
    "\n",
    "\n",
    "###internet数据\n",
    "\n",
    "train_inte['issue_date_month'] = train_inte['issue_date'].dt.month\n",
    "train_inte['issue_date_dayofweek'] = train_inte['issue_date'].dt.dayofweek\n",
    "train_inte['earliesCreditMon'] = train_inte['earlies_credit_mon'].dt.month\n",
    "train_inte['earliesCreditYear'] = train_inte['earlies_credit_mon'].dt.year\n",
    "\n",
    "\n",
    "\n",
    "\n"
   ]
  },
  {
   "cell_type": "markdown",
   "metadata": {},
   "source": [
    "## Pcode 特征"
   ]
  },
  {
   "cell_type": "code",
   "execution_count": null,
   "metadata": {},
   "outputs": [],
   "source": []
  },
  {
   "cell_type": "markdown",
   "metadata": {},
   "source": [
    "## 精度处理，没有提升，不代表不对"
   ]
  },
  {
   "cell_type": "code",
   "execution_count": null,
   "metadata": {},
   "outputs": [],
   "source": []
  },
  {
   "cell_type": "code",
   "execution_count": null,
   "metadata": {},
   "outputs": [],
   "source": []
  },
  {
   "cell_type": "markdown",
   "metadata": {},
   "source": [
    "## 精度处理后添加特征"
   ]
  },
  {
   "cell_type": "code",
   "execution_count": null,
   "metadata": {},
   "outputs": [],
   "source": []
  },
  {
   "cell_type": "markdown",
   "metadata": {},
   "source": [
    "## 自然编码"
   ]
  },
  {
   "cell_type": "code",
   "execution_count": 9,
   "metadata": {},
   "outputs": [],
   "source": [
    "cat_cols = ['employer_type', 'industry']\n",
    "\n",
    "from sklearn.preprocessing import LabelEncoder\n",
    "for col in cat_cols:\n",
    "    lbl = LabelEncoder().fit(train_data[col])\n",
    "    train_data[col] = lbl.transform(train_data[col])\n",
    "    test_public[col] = lbl.transform(test_public[col])\n",
    "    \n",
    "    #Internet处理\n",
    "    train_inte[col] = lbl.transform(train_inte[col])\n",
    "    \n",
    "# 'f1','policy_code','app_type' 这三个去掉是881\n",
    "# ,'f1','policy_code','app_type'\n",
    "col_to_drop = ['issue_date', 'earlies_credit_mon']\n",
    "train_data = train_data.drop(col_to_drop, axis=1)\n",
    "test_public = test_public.drop(col_to_drop, axis=1 )\n",
    "\n",
    "##internet处理\n",
    "train_inte = train_inte.drop(col_to_drop, axis=1 )\n",
    "# 暂时不变\n",
    "# train_inte = train_inte.rename(columns={'is_default':'isDefault'})\n",
    "# data = pd.concat( [train_data,test_public] )\n",
    "tr_cols = set(train_data.columns)\n",
    "same_col = list(tr_cols.intersection(set(train_inte.columns)))\n",
    "train_inteSame = train_inte[same_col].copy()\n",
    "\n",
    "Inte_add_cos = list(tr_cols.difference(set(same_col)))\n",
    "for col in Inte_add_cos:\n",
    "    train_inteSame[col] = np.nan\n",
    "\n",
    "#81后加 \n",
    "# for col in cat_cols:\n",
    "#     dum = pd.get_dummies(data[col], prefix='OneHot_'+col +'_')\n",
    "#     data = pd.concat([data, dum], axis=1)\n",
    "# #     del data[col]\n",
    "#     del dum\n",
    "\n"
   ]
  },
  {
   "cell_type": "markdown",
   "metadata": {},
   "source": [
    "## train 预测 Internet"
   ]
  },
  {
   "cell_type": "code",
   "execution_count": 10,
   "metadata": {},
   "outputs": [
    {
     "name": "stdout",
     "output_type": "stream",
     "text": [
      "Training until validation scores don't improve for 40 rounds\n",
      "Early stopping, best iteration is:\n",
      "[58]\ttraining's auc: 0.933523\ttraining's binary_logloss: 0.249533\tvalid_1's auc: 0.892153\tvalid_1's binary_logloss: 0.290676\n",
      "Fold  1 AUC : 0.892153\n",
      "Training until validation scores don't improve for 40 rounds\n",
      "[100]\ttraining's auc: 0.954902\ttraining's binary_logloss: 0.224771\tvalid_1's auc: 0.888907\tvalid_1's binary_logloss: 0.289767\n",
      "Early stopping, best iteration is:\n",
      "[64]\ttraining's auc: 0.937329\ttraining's binary_logloss: 0.246772\tvalid_1's auc: 0.891066\tvalid_1's binary_logloss: 0.28752\n",
      "Fold  2 AUC : 0.891066\n",
      "Training until validation scores don't improve for 40 rounds\n",
      "Early stopping, best iteration is:\n",
      "[47]\ttraining's auc: 0.93133\ttraining's binary_logloss: 0.2514\tvalid_1's auc: 0.875276\tvalid_1's binary_logloss: 0.31178\n",
      "Fold  3 AUC : 0.875276\n",
      "Training until validation scores don't improve for 40 rounds\n",
      "Early stopping, best iteration is:\n",
      "[54]\ttraining's auc: 0.937112\ttraining's binary_logloss: 0.245665\tvalid_1's auc: 0.867667\tvalid_1's binary_logloss: 0.318096\n",
      "Fold  4 AUC : 0.867667\n",
      "Training until validation scores don't improve for 40 rounds\n",
      "[100]\ttraining's auc: 0.955868\ttraining's binary_logloss: 0.223724\tvalid_1's auc: 0.87934\tvalid_1's binary_logloss: 0.300576\n",
      "Early stopping, best iteration is:\n",
      "[75]\ttraining's auc: 0.942181\ttraining's binary_logloss: 0.240506\tvalid_1's auc: 0.880858\tvalid_1's binary_logloss: 0.298224\n",
      "Fold  5 AUC : 0.880858\n",
      "Full AUC score 0.880928\n"
     ]
    }
   ],
   "source": [
    "y = train_data['isDefault']\n",
    "folds = KFold(n_splits=5, shuffle=True, random_state=546789)\n",
    "oof_preds, IntePre, importances = train_model(train_data, train_inteSame, y, folds)\n"
   ]
  },
  {
   "cell_type": "code",
   "execution_count": 11,
   "metadata": {},
   "outputs": [
    {
     "name": "stderr",
     "output_type": "stream",
     "text": [
      "D:\\programfiles\\Anaconda3\\lib\\site-packages\\ipykernel_launcher.py:1: SettingWithCopyWarning: \n",
      "A value is trying to be set on a copy of a slice from a DataFrame.\n",
      "Try using .loc[row_indexer,col_indexer] = value instead\n",
      "\n",
      "See the caveats in the documentation: http://pandas.pydata.org/pandas-docs/stable/indexing.html#indexing-view-versus-copy\n",
      "  \"\"\"Entry point for launching an IPython kernel.\n"
     ]
    }
   ],
   "source": [
    "IntePre['isDef'] = train_inte['is_default']"
   ]
  },
  {
   "cell_type": "code",
   "execution_count": 12,
   "metadata": {},
   "outputs": [],
   "source": [
    "# IntePre\n",
    "# train_inteSame.head()"
   ]
  },
  {
   "cell_type": "code",
   "execution_count": 13,
   "metadata": {},
   "outputs": [
    {
     "data": {
      "text/plain": [
       "0.7295666071674715"
      ]
     },
     "execution_count": 13,
     "metadata": {},
     "output_type": "execute_result"
    }
   ],
   "source": [
    "from sklearn.metrics import roc_auc_score\n",
    "roc_auc_score(IntePre['isDef'],IntePre.isDefault)"
   ]
  },
  {
   "cell_type": "code",
   "execution_count": 14,
   "metadata": {},
   "outputs": [],
   "source": [
    "# inteSame\n",
    "# InteId"
   ]
  },
  {
   "cell_type": "code",
   "execution_count": 15,
   "metadata": {},
   "outputs": [],
   "source": [
    "# train_inteSame"
   ]
  },
  {
   "cell_type": "code",
   "execution_count": 16,
   "metadata": {},
   "outputs": [
    {
     "name": "stderr",
     "output_type": "stream",
     "text": [
      "D:\\programfiles\\Anaconda3\\lib\\site-packages\\ipykernel_launcher.py:9: FutureWarning: Sorting because non-concatenation axis is not aligned. A future version\n",
      "of pandas will change to not sort by default.\n",
      "\n",
      "To accept the future behavior, pass 'sort=True'.\n",
      "\n",
      "To retain the current behavior and silence the warning, pass sort=False\n",
      "\n",
      "  if __name__ == '__main__':\n"
     ]
    }
   ],
   "source": [
    "## 选择阈值0.05，从internet表中提取预测小于该概率的样本，并对不同来源的样本赋予来源值\n",
    "InteId = IntePre.loc[IntePre.isDefault<0.05, 'loan_id'].tolist()\n",
    "\n",
    "train_data['dataSourse'] = 1\n",
    "test_public['dataSourse'] = 1\n",
    "train_inteSame['dataSourse'] = 0\n",
    "train_inteSame['isDefault'] = train_inte['is_default']\n",
    "use_te = train_inteSame[train_inteSame.loan_id.isin( InteId )].copy()\n",
    "data = pd.concat([ train_data,test_public,use_te]).reset_index(drop=True)\n",
    "\n",
    "\n",
    "\n",
    "\n",
    "# InteId = IntePre.loc[IntePre.isDefault<0.05, 'loan_id'].tolist()\n",
    "# train_inte = train_inte.rename(columns={'is_default':'isDefault'})\n",
    "\n",
    "# train_data['dataSourse'] = 1\n",
    "# test_public['dataSourse'] = 1\n",
    "# train_inte['dataSourse'] = 0\n",
    "\n",
    "\n",
    "\n",
    "# use_te = train_inte[train_inte.loan_id.isin( InteId )].copy()\n",
    "# data = pd.concat([ train_data,test_public,use_te]).reset_index(drop=True)\n"
   ]
  },
  {
   "cell_type": "code",
   "execution_count": 17,
   "metadata": {},
   "outputs": [
    {
     "name": "stderr",
     "output_type": "stream",
     "text": [
      "D:\\programfiles\\Anaconda3\\lib\\site-packages\\matplotlib\\axes\\_axes.py:6462: UserWarning: The 'normed' kwarg is deprecated, and has been replaced by the 'density' kwarg.\n",
      "  warnings.warn(\"The 'normed' kwarg is deprecated, and has been \"\n"
     ]
    },
    {
     "data": {
      "image/png": "[encoded data removed]",
      "text/plain": [
       "<Figure size 1152x432 with 1 Axes>"
      ]
     },
     "metadata": {},
     "output_type": "display_data"
    }
   ],
   "source": [
    "# IntePre.isDefault\n",
    "plt.figure(figsize=(16,6))\n",
    "plt.title(\"Distribution of Default values IntePre\")\n",
    "sns.distplot(IntePre['isDefault'],color=\"black\", kde=True,bins=120, label='train_data')\n",
    "# sns.distplot(train_inte[col],color=\"red\", kde=True,bins=120, label='train_inte')\n",
    "plt.legend();plt.show()"
   ]
  },
  {
   "cell_type": "code",
   "execution_count": 18,
   "metadata": {},
   "outputs": [],
   "source": [
    "# len(train)"
   ]
  },
  {
   "cell_type": "markdown",
   "metadata": {},
   "source": [
    "## 模型与输出"
   ]
  },
  {
   "cell_type": "code",
   "execution_count": 19,
   "metadata": {},
   "outputs": [
    {
     "name": "stdout",
     "output_type": "stream",
     "text": [
      "Training until validation scores don't improve for 40 rounds\n",
      "[100]\ttraining's auc: 0.993455\ttraining's binary_logloss: 0.0326974\tvalid_1's auc: 0.986005\tvalid_1's binary_logloss: 0.0452111\n",
      "Early stopping, best iteration is:\n",
      "[83]\ttraining's auc: 0.992302\ttraining's binary_logloss: 0.0343836\tvalid_1's auc: 0.98613\tvalid_1's binary_logloss: 0.0449613\n",
      "Fold  1 AUC : 0.986130\n",
      "Training until validation scores don't improve for 40 rounds\n",
      "Early stopping, best iteration is:\n",
      "[36]\ttraining's auc: 0.989945\ttraining's binary_logloss: 0.0396463\tvalid_1's auc: 0.984252\tvalid_1's binary_logloss: 0.044025\n",
      "Fold  2 AUC : 0.984252\n",
      "Training until validation scores don't improve for 40 rounds\n",
      "[100]\ttraining's auc: 0.992953\ttraining's binary_logloss: 0.0340856\tvalid_1's auc: 0.985773\tvalid_1's binary_logloss: 0.042583\n",
      "Early stopping, best iteration is:\n",
      "[92]\ttraining's auc: 0.992404\ttraining's binary_logloss: 0.0348428\tvalid_1's auc: 0.98573\tvalid_1's binary_logloss: 0.042547\n",
      "Fold  3 AUC : 0.985730\n",
      "Training until validation scores don't improve for 40 rounds\n",
      "Early stopping, best iteration is:\n",
      "[28]\ttraining's auc: 0.98967\ttraining's binary_logloss: 0.0413838\tvalid_1's auc: 0.984666\tvalid_1's binary_logloss: 0.0444976\n",
      "Fold  4 AUC : 0.984666\n",
      "Training until validation scores don't improve for 40 rounds\n",
      "[100]\ttraining's auc: 0.993032\ttraining's binary_logloss: 0.0334627\tvalid_1's auc: 0.985175\tvalid_1's binary_logloss: 0.0452669\n",
      "Early stopping, best iteration is:\n",
      "[77]\ttraining's auc: 0.991858\ttraining's binary_logloss: 0.0351488\tvalid_1's auc: 0.985266\tvalid_1's binary_logloss: 0.0451094\n",
      "Fold  5 AUC : 0.985266\n",
      "Full AUC score 0.985162\n"
     ]
    }
   ],
   "source": [
    "train = data[data['isDefault'].notna()]\n",
    "test  = data[data['isDefault'].isna()]\n",
    "# for col in ['sub_class', 'work_type']:\n",
    "#     del train[col]\n",
    "#     del test[col]\n",
    "\n",
    "\n",
    "del data\n",
    "del train_data,test_public\n",
    "\n",
    "\n",
    "y = train['isDefault']\n",
    "folds = KFold(n_splits=5, shuffle=True, random_state=546789)\n",
    "oof_preds, test_preds, importances = train_model(train, test, y, folds)"
   ]
  },
  {
   "cell_type": "code",
   "execution_count": 20,
   "metadata": {},
   "outputs": [
    {
     "data": {
      "text/html": [
       "<div>\n",
       "<style scoped>\n",
       "    .dataframe tbody tr th:only-of-type {\n",
       "        vertical-align: middle;\n",
       "    }\n",
       "\n",
       "    .dataframe tbody tr th {\n",
       "        vertical-align: top;\n",
       "    }\n",
       "\n",
       "    .dataframe thead th {\n",
       "        text-align: right;\n",
       "    }\n",
       "</style>\n",
       "<table border=\"1\" class=\"dataframe\">\n",
       "  <thead>\n",
       "    <tr style=\"text-align: right;\">\n",
       "      <th></th>\n",
       "      <th>app_type</th>\n",
       "      <th>censor_status</th>\n",
       "      <th>class</th>\n",
       "      <th>dataSourse</th>\n",
       "      <th>debt_loan_ratio</th>\n",
       "      <th>del_in_18month</th>\n",
       "      <th>earliesCreditMon</th>\n",
       "      <th>earliesCreditYear</th>\n",
       "      <th>early_return</th>\n",
       "      <th>early_return_amount</th>\n",
       "      <th>early_return_amount_3mon</th>\n",
       "      <th>employer_type</th>\n",
       "      <th>f0</th>\n",
       "      <th>f1</th>\n",
       "      <th>f2</th>\n",
       "      <th>f3</th>\n",
       "      <th>f4</th>\n",
       "      <th>house_exist</th>\n",
       "      <th>industry</th>\n",
       "      <th>initial_list_status</th>\n",
       "      <th>interest</th>\n",
       "      <th>isDefault</th>\n",
       "      <th>issue_date_dayofweek</th>\n",
       "      <th>issue_date_month</th>\n",
       "      <th>known_dero</th>\n",
       "      <th>known_outstanding_loan</th>\n",
       "      <th>loan_id</th>\n",
       "      <th>monthly_payment</th>\n",
       "      <th>policy_code</th>\n",
       "      <th>post_code</th>\n",
       "      <th>pub_dero_bankrup</th>\n",
       "      <th>recircle_b</th>\n",
       "      <th>recircle_u</th>\n",
       "      <th>region</th>\n",
       "      <th>scoring_high</th>\n",
       "      <th>scoring_low</th>\n",
       "      <th>title</th>\n",
       "      <th>total_loan</th>\n",
       "      <th>use</th>\n",
       "      <th>user_id</th>\n",
       "      <th>work_year</th>\n",
       "      <th>year_of_loan</th>\n",
       "    </tr>\n",
       "  </thead>\n",
       "  <tbody>\n",
       "    <tr>\n",
       "      <th>0</th>\n",
       "      <td>0.000</td>\n",
       "      <td>1</td>\n",
       "      <td>3</td>\n",
       "      <td>1</td>\n",
       "      <td>2.430</td>\n",
       "      <td>0.000</td>\n",
       "      <td>12</td>\n",
       "      <td>2001</td>\n",
       "      <td>3</td>\n",
       "      <td>9927</td>\n",
       "      <td>0.000</td>\n",
       "      <td>3</td>\n",
       "      <td>1.000</td>\n",
       "      <td>0.000</td>\n",
       "      <td>4.000</td>\n",
       "      <td>5.000</td>\n",
       "      <td>4.000</td>\n",
       "      <td>0</td>\n",
       "      <td>13</td>\n",
       "      <td>0</td>\n",
       "      <td>11.466</td>\n",
       "      <td>0.000</td>\n",
       "      <td>5</td>\n",
       "      <td>10</td>\n",
       "      <td>0.000</td>\n",
       "      <td>3.000</td>\n",
       "      <td>1040418</td>\n",
       "      <td>1174.910</td>\n",
       "      <td>1.000</td>\n",
       "      <td>193.000</td>\n",
       "      <td>0.000</td>\n",
       "      <td>7734.231</td>\n",
       "      <td>91.800</td>\n",
       "      <td>13</td>\n",
       "      <td>649.091</td>\n",
       "      <td>556.364</td>\n",
       "      <td>5.000</td>\n",
       "      <td>31818.182</td>\n",
       "      <td>2</td>\n",
       "      <td>240418</td>\n",
       "      <td>3</td>\n",
       "      <td>3</td>\n",
       "    </tr>\n",
       "    <tr>\n",
       "      <th>1</th>\n",
       "      <td>0.000</td>\n",
       "      <td>2</td>\n",
       "      <td>3</td>\n",
       "      <td>1</td>\n",
       "      <td>11.005</td>\n",
       "      <td>1.000</td>\n",
       "      <td>4</td>\n",
       "      <td>1990</td>\n",
       "      <td>0</td>\n",
       "      <td>0</td>\n",
       "      <td>0.000</td>\n",
       "      <td>3</td>\n",
       "      <td>7.000</td>\n",
       "      <td>0.000</td>\n",
       "      <td>4.000</td>\n",
       "      <td>45.000</td>\n",
       "      <td>22.000</td>\n",
       "      <td>0</td>\n",
       "      <td>13</td>\n",
       "      <td>1</td>\n",
       "      <td>16.841</td>\n",
       "      <td>0.000</td>\n",
       "      <td>5</td>\n",
       "      <td>6</td>\n",
       "      <td>0.000</td>\n",
       "      <td>3.000</td>\n",
       "      <td>1025197</td>\n",
       "      <td>670.690</td>\n",
       "      <td>1.000</td>\n",
       "      <td>491.000</td>\n",
       "      <td>0.000</td>\n",
       "      <td>31329.000</td>\n",
       "      <td>54.800</td>\n",
       "      <td>30</td>\n",
       "      <td>893.750</td>\n",
       "      <td>715.000</td>\n",
       "      <td>40642.000</td>\n",
       "      <td>28000.000</td>\n",
       "      <td>0</td>\n",
       "      <td>225197</td>\n",
       "      <td>10</td>\n",
       "      <td>5</td>\n",
       "    </tr>\n",
       "    <tr>\n",
       "      <th>2</th>\n",
       "      <td>0.000</td>\n",
       "      <td>0</td>\n",
       "      <td>1</td>\n",
       "      <td>1</td>\n",
       "      <td>6.409</td>\n",
       "      <td>0.000</td>\n",
       "      <td>10</td>\n",
       "      <td>1991</td>\n",
       "      <td>0</td>\n",
       "      <td>0</td>\n",
       "      <td>0.000</td>\n",
       "      <td>3</td>\n",
       "      <td>6.000</td>\n",
       "      <td>0.000</td>\n",
       "      <td>6.000</td>\n",
       "      <td>28.000</td>\n",
       "      <td>19.000</td>\n",
       "      <td>1</td>\n",
       "      <td>3</td>\n",
       "      <td>1</td>\n",
       "      <td>8.900</td>\n",
       "      <td>0.000</td>\n",
       "      <td>2</td>\n",
       "      <td>1</td>\n",
       "      <td>0.000</td>\n",
       "      <td>5.000</td>\n",
       "      <td>1009360</td>\n",
       "      <td>603.320</td>\n",
       "      <td>1.000</td>\n",
       "      <td>459.000</td>\n",
       "      <td>0.000</td>\n",
       "      <td>18514.000</td>\n",
       "      <td>57.692</td>\n",
       "      <td>8</td>\n",
       "      <td>903.636</td>\n",
       "      <td>774.545</td>\n",
       "      <td>154.000</td>\n",
       "      <td>17272.727</td>\n",
       "      <td>4</td>\n",
       "      <td>209360</td>\n",
       "      <td>10</td>\n",
       "      <td>3</td>\n",
       "    </tr>\n",
       "    <tr>\n",
       "      <th>3</th>\n",
       "      <td>0.000</td>\n",
       "      <td>1</td>\n",
       "      <td>1</td>\n",
       "      <td>1</td>\n",
       "      <td>9.205</td>\n",
       "      <td>0.000</td>\n",
       "      <td>6</td>\n",
       "      <td>2001</td>\n",
       "      <td>0</td>\n",
       "      <td>0</td>\n",
       "      <td>0.000</td>\n",
       "      <td>1</td>\n",
       "      <td>5.000</td>\n",
       "      <td>0.000</td>\n",
       "      <td>10.000</td>\n",
       "      <td>15.000</td>\n",
       "      <td>9.000</td>\n",
       "      <td>0</td>\n",
       "      <td>10</td>\n",
       "      <td>0</td>\n",
       "      <td>4.788</td>\n",
       "      <td>0.000</td>\n",
       "      <td>2</td>\n",
       "      <td>7</td>\n",
       "      <td>0.000</td>\n",
       "      <td>3.000</td>\n",
       "      <td>1039708</td>\n",
       "      <td>602.300</td>\n",
       "      <td>1.000</td>\n",
       "      <td>157.000</td>\n",
       "      <td>0.000</td>\n",
       "      <td>20707.000</td>\n",
       "      <td>42.600</td>\n",
       "      <td>8</td>\n",
       "      <td>875.000</td>\n",
       "      <td>750.000</td>\n",
       "      <td>0.000</td>\n",
       "      <td>20000.000</td>\n",
       "      <td>0</td>\n",
       "      <td>239708</td>\n",
       "      <td>6</td>\n",
       "      <td>3</td>\n",
       "    </tr>\n",
       "    <tr>\n",
       "      <th>4</th>\n",
       "      <td>0.000</td>\n",
       "      <td>1</td>\n",
       "      <td>3</td>\n",
       "      <td>1</td>\n",
       "      <td>15.578</td>\n",
       "      <td>0.000</td>\n",
       "      <td>5</td>\n",
       "      <td>2001</td>\n",
       "      <td>0</td>\n",
       "      <td>0</td>\n",
       "      <td>0.000</td>\n",
       "      <td>3</td>\n",
       "      <td>10.000</td>\n",
       "      <td>0.000</td>\n",
       "      <td>6.000</td>\n",
       "      <td>15.000</td>\n",
       "      <td>4.000</td>\n",
       "      <td>2</td>\n",
       "      <td>2</td>\n",
       "      <td>0</td>\n",
       "      <td>12.790</td>\n",
       "      <td>0.000</td>\n",
       "      <td>4</td>\n",
       "      <td>7</td>\n",
       "      <td>0.000</td>\n",
       "      <td>15.000</td>\n",
       "      <td>1027483</td>\n",
       "      <td>470.310</td>\n",
       "      <td>1.000</td>\n",
       "      <td>38.000</td>\n",
       "      <td>0.000</td>\n",
       "      <td>14016.154</td>\n",
       "      <td>30.462</td>\n",
       "      <td>21</td>\n",
       "      <td>710.606</td>\n",
       "      <td>609.091</td>\n",
       "      <td>0.000</td>\n",
       "      <td>15272.727</td>\n",
       "      <td>0</td>\n",
       "      <td>227483</td>\n",
       "      <td>0</td>\n",
       "      <td>3</td>\n",
       "    </tr>\n",
       "  </tbody>\n",
       "</table>\n",
       "</div>"
      ],
      "text/plain": [
       "   app_type  censor_status  class  dataSourse  debt_loan_ratio  \\\n",
       "0     0.000              1      3           1            2.430   \n",
       "1     0.000              2      3           1           11.005   \n",
       "2     0.000              0      1           1            6.409   \n",
       "3     0.000              1      1           1            9.205   \n",
       "4     0.000              1      3           1           15.578   \n",
       "\n",
       "   del_in_18month  earliesCreditMon  earliesCreditYear  early_return  \\\n",
       "0           0.000                12               2001             3   \n",
       "1           1.000                 4               1990             0   \n",
       "2           0.000                10               1991             0   \n",
       "3           0.000                 6               2001             0   \n",
       "4           0.000                 5               2001             0   \n",
       "\n",
       "   early_return_amount  early_return_amount_3mon  employer_type     f0    f1  \\\n",
       "0                 9927                     0.000              3  1.000 0.000   \n",
       "1                    0                     0.000              3  7.000 0.000   \n",
       "2                    0                     0.000              3  6.000 0.000   \n",
       "3                    0                     0.000              1  5.000 0.000   \n",
       "4                    0                     0.000              3 10.000 0.000   \n",
       "\n",
       "      f2     f3     f4  house_exist  industry  initial_list_status  interest  \\\n",
       "0  4.000  5.000  4.000            0        13                    0    11.466   \n",
       "1  4.000 45.000 22.000            0        13                    1    16.841   \n",
       "2  6.000 28.000 19.000            1         3                    1     8.900   \n",
       "3 10.000 15.000  9.000            0        10                    0     4.788   \n",
       "4  6.000 15.000  4.000            2         2                    0    12.790   \n",
       "\n",
       "   isDefault  issue_date_dayofweek  issue_date_month  known_dero  \\\n",
       "0      0.000                     5                10       0.000   \n",
       "1      0.000                     5                 6       0.000   \n",
       "2      0.000                     2                 1       0.000   \n",
       "3      0.000                     2                 7       0.000   \n",
       "4      0.000                     4                 7       0.000   \n",
       "\n",
       "   known_outstanding_loan  loan_id  monthly_payment  policy_code  post_code  \\\n",
       "0                   3.000  1040418         1174.910        1.000    193.000   \n",
       "1                   3.000  1025197          670.690        1.000    491.000   \n",
       "2                   5.000  1009360          603.320        1.000    459.000   \n",
       "3                   3.000  1039708          602.300        1.000    157.000   \n",
       "4                  15.000  1027483          470.310        1.000     38.000   \n",
       "\n",
       "   pub_dero_bankrup  recircle_b  recircle_u  region  scoring_high  \\\n",
       "0             0.000    7734.231      91.800      13       649.091   \n",
       "1             0.000   31329.000      54.800      30       893.750   \n",
       "2             0.000   18514.000      57.692       8       903.636   \n",
       "3             0.000   20707.000      42.600       8       875.000   \n",
       "4             0.000   14016.154      30.462      21       710.606   \n",
       "\n",
       "   scoring_low     title  total_loan  use  user_id  work_year  year_of_loan  \n",
       "0      556.364     5.000   31818.182    2   240418          3             3  \n",
       "1      715.000 40642.000   28000.000    0   225197         10             5  \n",
       "2      774.545   154.000   17272.727    4   209360         10             3  \n",
       "3      750.000     0.000   20000.000    0   239708          6             3  \n",
       "4      609.091     0.000   15272.727    0   227483          0             3  "
      ]
     },
     "execution_count": 20,
     "metadata": {},
     "output_type": "execute_result"
    }
   ],
   "source": [
    "train.head()"
   ]
  },
  {
   "cell_type": "code",
   "execution_count": 21,
   "metadata": {},
   "outputs": [],
   "source": [
    "test_preds.rename({'loan_id': 'id'}, axis=1)[['id', 'isDefault']].to_csv('submit/nn2.csv', index=False)"
   ]
  },
  {
   "cell_type": "code",
   "execution_count": 22,
   "metadata": {},
   "outputs": [],
   "source": [
    "# train.issue_date_year.value_counts()"
   ]
  },
  {
   "cell_type": "code",
   "execution_count": 23,
   "metadata": {
    "scrolled": true
   },
   "outputs": [
    {
     "data": {
      "image/png": "[encoded data removed]",
      "text/plain": [
       "<Figure size 576x720 with 1 Axes>"
      ]
     },
     "metadata": {},
     "output_type": "display_data"
    }
   ],
   "source": [
    "display_importances(importances)\n",
    "\n",
    "# 处理一些取值精度后没有大的变化 依然是状态 / 得分\n",
    "# 0.88142741347 "
   ]
  },
  {
   "cell_type": "code",
   "execution_count": 24,
   "metadata": {},
   "outputs": [],
   "source": [
    "# train.nunique()"
   ]
  }
 ],
 "metadata": {
  "kernelspec": {
   "display_name": "Python 3",
   "language": "python",
   "name": "python3"
  },
  "language_info": {
   "codemirror_mode": {
    "name": "ipython",
    "version": 3
   },
   "file_extension": ".py",
   "mimetype": "text/x-python",
   "name": "python",
   "nbconvert_exporter": "python",
   "pygments_lexer": "ipython3",
   "version": "3.6.5"
  }
 },
 "nbformat": 4,
 "nbformat_minor": 2
}
